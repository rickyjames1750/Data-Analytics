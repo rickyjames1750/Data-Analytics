{
 "cells": [
  {
   "cell_type": "code",
   "execution_count": 2,
   "id": "b5bb5eca",
   "metadata": {},
   "outputs": [
    {
     "name": "stdout",
     "output_type": "stream",
     "text": [
      "coding\n"
     ]
    }
   ],
   "source": [
    "# Simple Python String\n",
    "favorite_word = \"coding\"\n",
    "\n",
    "print(favorite_word)"
   ]
  },
  {
   "cell_type": "code",
   "execution_count": 4,
   "id": "69b86ecd",
   "metadata": {},
   "outputs": [],
   "source": [
    "# Python Strong with idice[s]\n",
    "my_name = \"Python Person\"\n",
    "\n",
    "first_initial = my_name[0]"
   ]
  },
  {
   "cell_type": "code",
   "execution_count": 6,
   "id": "3a92d60c",
   "metadata": {},
   "outputs": [],
   "source": [
    "# Strings being sliced\n",
    "first_name = \"Rodrigo\"\n",
    "last_name = \"Villanueva\"\n",
    "\n",
    "new_account = last_name[:5]\n",
    "\n",
    "temp_password = last_name[2:6]"
   ]
  },
  {
   "cell_type": "code",
   "execution_count": null,
   "id": "f53d1c76",
   "metadata": {},
   "outputs": [],
   "source": []
  },
  {
   "cell_type": "code",
   "execution_count": null,
   "id": "796234b4",
   "metadata": {},
   "outputs": [],
   "source": []
  }
 ],
 "metadata": {
  "kernelspec": {
   "display_name": "Python 3 (ipykernel)",
   "language": "python",
   "name": "python3"
  },
  "language_info": {
   "codemirror_mode": {
    "name": "ipython",
    "version": 3
   },
   "file_extension": ".py",
   "mimetype": "text/x-python",
   "name": "python",
   "nbconvert_exporter": "python",
   "pygments_lexer": "ipython3",
   "version": "3.9.13"
  }
 },
 "nbformat": 4,
 "nbformat_minor": 5
}
