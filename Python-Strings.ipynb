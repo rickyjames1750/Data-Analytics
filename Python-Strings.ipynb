{
 "cells": [
  {
   "cell_type": "code",
   "execution_count": 2,
   "id": "b3a4d200",
   "metadata": {},
   "outputs": [
    {
     "name": "stdout",
     "output_type": "stream",
     "text": [
      "coding\n"
     ]
    }
   ],
   "source": [
    "# Simple Python String\n",
    "favorite_word = \"coding\"\n",
    "\n",
    "print(favorite_word)"
   ]
  },
  {
   "cell_type": "code",
   "execution_count": 4,
   "id": "6ada07d5",
   "metadata": {},
   "outputs": [],
   "source": [
    "# Python Strong with idice[s]\n",
    "my_name = \"Python Person\"\n",
    "\n",
    "first_initial = my_name[0]"
   ]
  },
  {
   "cell_type": "code",
   "execution_count": 6,
   "id": "af4ca144",
   "metadata": {},
   "outputs": [],
   "source": [
    "# Strings being sliced\n",
    "first_name = \"Rodrigo\"\n",
    "last_name = \"Villanueva\"\n",
    "\n",
    "new_account = last_name[:5]\n",
    "\n",
    "temp_password = last_name[2:6]"
   ]
  },
  {
   "cell_type": "code",
   "execution_count": 7,
   "id": "a992e8c4",
   "metadata": {},
   "outputs": [
    {
     "name": "stdout",
     "output_type": "stream",
     "text": [
      "JulBle\n"
     ]
    }
   ],
   "source": [
    "# Concatenating Strings\n",
    "\n",
    "first_name = \"Julie\"\n",
    "last_name = \"Blevins\"\n",
    "\n",
    "def account_generator(first_name, last_name):\n",
    "  account_name = first_name[:3] + last_name[:3]\n",
    "  return account_name \n",
    "\n",
    "new_account = account_generator(first_name, last_name)\n",
    "\n",
    "print(new_account)"
   ]
  },
  {
   "cell_type": "code",
   "execution_count": 8,
   "id": "ad89302c",
   "metadata": {},
   "outputs": [
    {
     "name": "stdout",
     "output_type": "stream",
     "text": [
      "ikouki\n"
     ]
    }
   ],
   "source": [
    "# More and more string slicing \n",
    "first_name = \"Reiko\"\n",
    "last_name = \"Matsuki\"\n",
    "\n",
    "def password_generator(first_name, last_name):\n",
    " temp_password = first_name[len(first_name)-3:] + last_name[len(last_name)-3:]\n",
    " return temp_password \n",
    " \n",
    "temp_password = password_generator(first_name, last_name)\n",
    "\n",
    "print(temp_password)"
   ]
  },
  {
   "cell_type": "code",
   "execution_count": 9,
   "id": "108072db",
   "metadata": {},
   "outputs": [],
   "source": [
    "# Negative Indices\n",
    "company_motto = \"Copeland's Corporate Company helps you capably cope with the constant cacophony of daily life\"\n",
    "\n",
    "second_to_last = company_motto[-2]\n",
    "\n",
    "final_word = company_motto[-4:]"
   ]
  },
  {
   "cell_type": "code",
   "execution_count": 10,
   "id": "fef6e9d0",
   "metadata": {},
   "outputs": [
    {
     "name": "stdout",
     "output_type": "stream",
     "text": [
      "Rob\n"
     ]
    }
   ],
   "source": [
    "# Showcasing that strings are immutable \n",
    "first_name = \"Bob\"\n",
    "last_name = \"Daily\"\n",
    "\n",
    "# strings are immutable so I commented this out to fix this example \n",
    "# first_name[0] = \"R\"\n",
    "\n",
    "fixed_first_name = \"R\" + first_name[1:]\n",
    "\n",
    "print(fixed_first_name)"
   ]
  },
  {
   "cell_type": "code",
   "execution_count": 5,
   "id": "66de8ad5",
   "metadata": {},
   "outputs": [
    {
     "name": "stdout",
     "output_type": "stream",
     "text": [
      "theycallme\"crazy\"91\n"
     ]
    }
   ],
   "source": [
    "# Using escape characters \n",
    "\n",
    "# password = \"theycallme\"crazy\"91\"\n",
    "\n",
    "password = \"theycallme\\\"crazy\\\"91\"\n",
    "\n",
    "print(password)"
   ]
  },
  {
   "cell_type": "code",
   "execution_count": 6,
   "id": "ad9dbbb9",
   "metadata": {},
   "outputs": [],
   "source": [
    "# Iterating through strings \n",
    "def get_length(word):\n",
    "  counter = 0\n",
    "  for letter in word: \n",
    "    counter += 1\n",
    "  return counter\n"
   ]
  },
  {
   "cell_type": "code",
   "execution_count": 7,
   "id": "401f9fdc",
   "metadata": {},
   "outputs": [],
   "source": [
    "# Strings and Conditionals \n",
    "def letter_check(word, letter):\n",
    "  for character in word:\n",
    "    if character == letter:\n",
    "      return True\n",
    "  return False"
   ]
  },
  {
   "cell_type": "code",
   "execution_count": null,
   "id": "c97890a1",
   "metadata": {},
   "outputs": [],
   "source": []
  }
 ],
 "metadata": {
  "kernelspec": {
   "display_name": "Python 3 (ipykernel)",
   "language": "python",
   "name": "python3"
  },
  "language_info": {
   "codemirror_mode": {
    "name": "ipython",
    "version": 3
   },
   "file_extension": ".py",
   "mimetype": "text/x-python",
   "name": "python",
   "nbconvert_exporter": "python",
   "pygments_lexer": "ipython3",
   "version": "3.9.13"
  }
 },
 "nbformat": 4,
 "nbformat_minor": 5
}
