{
 "cells": [
  {
   "cell_type": "code",
   "execution_count": 3,
   "id": "7b78d2e6",
   "metadata": {},
   "outputs": [],
   "source": [
    "paintings = [\"The Two Fridas\", \"My Dress Hangs Here\", \"Tree of Hope\", \"Self Portrait With Monkeys\"]"
   ]
  },
  {
   "cell_type": "code",
   "execution_count": 4,
   "id": "59555989",
   "metadata": {},
   "outputs": [],
   "source": [
    "dates = [1939, 1933, 1946, 1940]"
   ]
  },
  {
   "cell_type": "code",
   "execution_count": 6,
   "id": "b39fccad",
   "metadata": {},
   "outputs": [
    {
     "name": "stdout",
     "output_type": "stream",
     "text": [
      "[('The Two Fridas', 1939), ('My Dress Hangs Here', 1933), ('Tree of Hope', 1946), ('Self Portrait With Monkeys', 1940)]\n"
     ]
    }
   ],
   "source": [
    "paintings_and_dates = zip(paintings, dates)\n",
    "paintings = list(paintings_and_dates)\n",
    "print(paintings)"
   ]
  },
  {
   "cell_type": "code",
   "execution_count": null,
   "id": "2ce04ef5",
   "metadata": {},
   "outputs": [],
   "source": []
  }
 ],
 "metadata": {
  "kernelspec": {
   "display_name": "Python 3 (ipykernel)",
   "language": "python",
   "name": "python3"
  },
  "language_info": {
   "codemirror_mode": {
    "name": "ipython",
    "version": 3
   },
   "file_extension": ".py",
   "mimetype": "text/x-python",
   "name": "python",
   "nbconvert_exporter": "python",
   "pygments_lexer": "ipython3",
   "version": "3.9.13"
  }
 },
 "nbformat": 4,
 "nbformat_minor": 5
}
