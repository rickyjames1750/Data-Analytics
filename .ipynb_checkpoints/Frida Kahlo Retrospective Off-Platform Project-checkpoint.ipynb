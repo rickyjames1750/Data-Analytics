{
 "cells": [
  {
   "cell_type": "code",
   "execution_count": 3,
   "id": "7b78d2e6",
   "metadata": {},
   "outputs": [],
   "source": [
    "paintings = [\"The Two Fridas\", \"My Dress Hangs Here\", \"Tree of Hope\", \"Self Portrait With Monkeys\"]"
   ]
  },
  {
   "cell_type": "code",
   "execution_count": 4,
   "id": "531088f3",
   "metadata": {},
   "outputs": [],
   "source": [
    "dates = [1939, 1933, 1946, 1940]"
   ]
  },
  {
   "cell_type": "code",
   "execution_count": null,
   "id": "db26b520",
   "metadata": {},
   "outputs": [],
   "source": []
  }
 ],
 "metadata": {
  "kernelspec": {
   "display_name": "Python 3 (ipykernel)",
   "language": "python",
   "name": "python3"
  },
  "language_info": {
   "codemirror_mode": {
    "name": "ipython",
    "version": 3
   },
   "file_extension": ".py",
   "mimetype": "text/x-python",
   "name": "python",
   "nbconvert_exporter": "python",
   "pygments_lexer": "ipython3",
   "version": "3.9.13"
  }
 },
 "nbformat": 4,
 "nbformat_minor": 5
}
