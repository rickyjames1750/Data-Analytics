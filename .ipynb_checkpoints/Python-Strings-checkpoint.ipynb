{
 "cells": [
  {
   "cell_type": "code",
   "execution_count": 2,
   "id": "f0c18b20",
   "metadata": {},
   "outputs": [
    {
     "name": "stdout",
     "output_type": "stream",
     "text": [
      "coding\n"
     ]
    }
   ],
   "source": [
    "# Simple Python String\n",
    "favorite_word = \"coding\"\n",
    "\n",
    "print(favorite_word)"
   ]
  },
  {
   "cell_type": "code",
   "execution_count": 3,
   "id": "4bde2eba",
   "metadata": {},
   "outputs": [],
   "source": [
    "# Python Strong with idice[s]\n",
    "my_name = \"Python Person\"\n",
    "\n",
    "first_initial = my_name[0]"
   ]
  },
  {
   "cell_type": "code",
   "execution_count": null,
   "id": "ed7c9871",
   "metadata": {},
   "outputs": [],
   "source": []
  }
 ],
 "metadata": {
  "kernelspec": {
   "display_name": "Python 3 (ipykernel)",
   "language": "python",
   "name": "python3"
  },
  "language_info": {
   "codemirror_mode": {
    "name": "ipython",
    "version": 3
   },
   "file_extension": ".py",
   "mimetype": "text/x-python",
   "name": "python",
   "nbconvert_exporter": "python",
   "pygments_lexer": "ipython3",
   "version": "3.9.13"
  }
 },
 "nbformat": 4,
 "nbformat_minor": 5
}
