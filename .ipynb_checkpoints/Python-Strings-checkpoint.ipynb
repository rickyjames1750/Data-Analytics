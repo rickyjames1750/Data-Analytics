{
 "cells": [
  {
   "cell_type": "code",
   "execution_count": 2,
   "id": "497aab58",
   "metadata": {},
   "outputs": [
    {
     "name": "stdout",
     "output_type": "stream",
     "text": [
      "coding\n"
     ]
    }
   ],
   "source": [
    "# Simple Python String\n",
    "favorite_word = \"coding\"\n",
    "\n",
    "print(favorite_word)"
   ]
  },
  {
   "cell_type": "code",
   "execution_count": 4,
   "id": "9869a03f",
   "metadata": {},
   "outputs": [],
   "source": [
    "# Python Strong with idice[s]\n",
    "my_name = \"Python Person\"\n",
    "\n",
    "first_initial = my_name[0]"
   ]
  },
  {
   "cell_type": "code",
   "execution_count": 6,
   "id": "72d693a0",
   "metadata": {},
   "outputs": [],
   "source": [
    "# Strings being sliced\n",
    "first_name = \"Rodrigo\"\n",
    "last_name = \"Villanueva\"\n",
    "\n",
    "new_account = last_name[:5]\n",
    "\n",
    "temp_password = last_name[2:6]"
   ]
  },
  {
   "cell_type": "code",
   "execution_count": 7,
   "id": "8370a624",
   "metadata": {},
   "outputs": [
    {
     "name": "stdout",
     "output_type": "stream",
     "text": [
      "JulBle\n"
     ]
    }
   ],
   "source": [
    "# Concatenating Strings\n",
    "\n",
    "first_name = \"Julie\"\n",
    "last_name = \"Blevins\"\n",
    "\n",
    "def account_generator(first_name, last_name):\n",
    "  account_name = first_name[:3] + last_name[:3]\n",
    "  return account_name \n",
    "\n",
    "new_account = account_generator(first_name, last_name)\n",
    "\n",
    "print(new_account)"
   ]
  },
  {
   "cell_type": "code",
   "execution_count": 8,
   "id": "4c6701b9",
   "metadata": {},
   "outputs": [
    {
     "name": "stdout",
     "output_type": "stream",
     "text": [
      "ikouki\n"
     ]
    }
   ],
   "source": [
    "# More and more string slicing \n",
    "first_name = \"Reiko\"\n",
    "last_name = \"Matsuki\"\n",
    "\n",
    "def password_generator(first_name, last_name):\n",
    " temp_password = first_name[len(first_name)-3:] + last_name[len(last_name)-3:]\n",
    " return temp_password \n",
    " \n",
    "temp_password = password_generator(first_name, last_name)\n",
    "\n",
    "print(temp_password)"
   ]
  },
  {
   "cell_type": "code",
   "execution_count": null,
   "id": "a1115882",
   "metadata": {},
   "outputs": [],
   "source": []
  }
 ],
 "metadata": {
  "kernelspec": {
   "display_name": "Python 3 (ipykernel)",
   "language": "python",
   "name": "python3"
  },
  "language_info": {
   "codemirror_mode": {
    "name": "ipython",
    "version": 3
   },
   "file_extension": ".py",
   "mimetype": "text/x-python",
   "name": "python",
   "nbconvert_exporter": "python",
   "pygments_lexer": "ipython3",
   "version": "3.9.13"
  }
 },
 "nbformat": 4,
 "nbformat_minor": 5
}
