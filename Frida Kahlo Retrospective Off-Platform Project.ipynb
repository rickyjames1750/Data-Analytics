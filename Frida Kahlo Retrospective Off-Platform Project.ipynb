{
 "cells": [
  {
   "cell_type": "code",
   "execution_count": 3,
   "id": "7b78d2e6",
   "metadata": {},
   "outputs": [],
   "source": [
    "# painting list \n",
    "paintings = [\"The Two Fridas\", \"My Dress Hangs Here\", \"Tree of Hope\", \"Self Portrait With Monkeys\"]"
   ]
  },
  {
   "cell_type": "code",
   "execution_count": 4,
   "id": "bf251972",
   "metadata": {},
   "outputs": [],
   "source": [
    "# dates list \n",
    "dates = [1939, 1933, 1946, 1940]"
   ]
  },
  {
   "cell_type": "code",
   "execution_count": 9,
   "id": "e4101cd0",
   "metadata": {},
   "outputs": [
    {
     "name": "stdout",
     "output_type": "stream",
     "text": [
      "[(('The Two Fridas', 1939), 1939), (('My Dress Hangs Here', 1933), 1933), (('Tree of Hope', 1946), 1946), (('Self Portrait With Monkeys', 1940), 1940)]\n"
     ]
    }
   ],
   "source": [
    "# added paintings with their dates via Zip(), converted the zipped objects into a list(), \n",
    "# and then printed them.\n",
    "paintings_and_dates = zip(paintings, dates)\n",
    "paintings = list(paintings_and_dates)\n",
    "print(paintings)"
   ]
  },
  {
   "cell_type": "code",
   "execution_count": 12,
   "id": "5f2b90c7",
   "metadata": {},
   "outputs": [
    {
     "name": "stdout",
     "output_type": "stream",
     "text": [
      "[(('The Two Fridas', 1939), 1939), (('My Dress Hangs Here', 1933), 1933), (('Tree of Hope', 1946), 1946), (('Self Portrait With Monkeys', 1940), 1940), ('The Broken Column', 1944), ('The Wounded Deer', 1946), ('Me and My Doll', 1937), ('The Broken Column', 1944), ('The Wounded Deer', 1946), ('Me and My Doll', 1937), ('The Broken Column', 1944), ('The Wounded Deer', 1946), ('Me and My Doll', 1937)]\n"
     ]
    }
   ],
   "source": [
    "# added new paintings via append\n",
    "paintings.append((\"The Broken Column\", 1944))\n",
    "paintings.append((\"The Wounded Deer\", 1946))\n",
    "paintings.append((\"Me and My Doll\", 1937))\n",
    "print(paintings)"
   ]
  },
  {
   "cell_type": "code",
   "execution_count": 13,
   "id": "20b1d461",
   "metadata": {},
   "outputs": [
    {
     "name": "stdout",
     "output_type": "stream",
     "text": [
      "13\n"
     ]
    }
   ],
   "source": [
    "# Finds the length of the paintings list\n",
    "total_paintings = len(paintings)\n",
    "print(total_paintings)"
   ]
  },
  {
   "cell_type": "code",
   "execution_count": 16,
   "id": "629ba370",
   "metadata": {},
   "outputs": [
    {
     "name": "stdout",
     "output_type": "stream",
     "text": [
      "[1, 2, 3, 4, 5, 6, 7, 8, 9, 10, 11, 12, 13]\n"
     ]
    }
   ],
   "source": [
    "# Using the range method to generate a list of identification numbers\n",
    "total_paintings_range = range(1, (len(paintings) +1))\n",
    "audio_tour_number = list(total_paintings_range)\n",
    "print(audio_tour_number)"
   ]
  },
  {
   "cell_type": "code",
   "execution_count": null,
   "id": "ba8b5153",
   "metadata": {},
   "outputs": [],
   "source": []
  }
 ],
 "metadata": {
  "kernelspec": {
   "display_name": "Python 3 (ipykernel)",
   "language": "python",
   "name": "python3"
  },
  "language_info": {
   "codemirror_mode": {
    "name": "ipython",
    "version": 3
   },
   "file_extension": ".py",
   "mimetype": "text/x-python",
   "name": "python",
   "nbconvert_exporter": "python",
   "pygments_lexer": "ipython3",
   "version": "3.9.13"
  }
 },
 "nbformat": 4,
 "nbformat_minor": 5
}
