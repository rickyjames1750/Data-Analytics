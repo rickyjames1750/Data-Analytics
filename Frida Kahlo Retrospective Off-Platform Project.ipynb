{
 "cells": [
  {
   "cell_type": "code",
   "execution_count": 3,
   "id": "7b78d2e6",
   "metadata": {},
   "outputs": [],
   "source": [
    "# painting list \n",
    "paintings = [\"The Two Fridas\", \"My Dress Hangs Here\", \"Tree of Hope\", \"Self Portrait With Monkeys\"]"
   ]
  },
  {
   "cell_type": "code",
   "execution_count": 4,
   "id": "c5290e7e",
   "metadata": {},
   "outputs": [],
   "source": [
    "# dates list \n",
    "dates = [1939, 1933, 1946, 1940]"
   ]
  },
  {
   "cell_type": "code",
   "execution_count": 9,
   "id": "5d7ccb7f",
   "metadata": {},
   "outputs": [
    {
     "name": "stdout",
     "output_type": "stream",
     "text": [
      "[(('The Two Fridas', 1939), 1939), (('My Dress Hangs Here', 1933), 1933), (('Tree of Hope', 1946), 1946), (('Self Portrait With Monkeys', 1940), 1940)]\n"
     ]
    }
   ],
   "source": [
    "# added paintings with their dates via Zip(), converted the zipped objects into a list(), \n",
    "# and then printed them.\n",
    "paintings_and_dates = zip(paintings, dates)\n",
    "paintings = list(paintings_and_dates)\n",
    "print(paintings)"
   ]
  },
  {
   "cell_type": "code",
   "execution_count": 12,
   "id": "fcbf7676",
   "metadata": {},
   "outputs": [
    {
     "name": "stdout",
     "output_type": "stream",
     "text": [
      "[(('The Two Fridas', 1939), 1939), (('My Dress Hangs Here', 1933), 1933), (('Tree of Hope', 1946), 1946), (('Self Portrait With Monkeys', 1940), 1940), ('The Broken Column', 1944), ('The Wounded Deer', 1946), ('Me and My Doll', 1937), ('The Broken Column', 1944), ('The Wounded Deer', 1946), ('Me and My Doll', 1937), ('The Broken Column', 1944), ('The Wounded Deer', 1946), ('Me and My Doll', 1937)]\n"
     ]
    }
   ],
   "source": [
    "# added new paintings via append\n",
    "paintings.append((\"The Broken Column\", 1944))\n",
    "paintings.append((\"The Wounded Deer\", 1946))\n",
    "paintings.append((\"Me and My Doll\", 1937))\n",
    "print(paintings)"
   ]
  },
  {
   "cell_type": "code",
   "execution_count": 13,
   "id": "9d518950",
   "metadata": {},
   "outputs": [
    {
     "name": "stdout",
     "output_type": "stream",
     "text": [
      "13\n"
     ]
    }
   ],
   "source": [
    "# Finds the length of the paintings list\n",
    "total_paintings = len(paintings)\n",
    "print(total_paintings)"
   ]
  },
  {
   "cell_type": "code",
   "execution_count": 16,
   "id": "131659d0",
   "metadata": {},
   "outputs": [
    {
     "name": "stdout",
     "output_type": "stream",
     "text": [
      "[1, 2, 3, 4, 5, 6, 7, 8, 9, 10, 11, 12, 13]\n"
     ]
    }
   ],
   "source": [
    "# Using the range method to generate a list of identification numbers\n",
    "total_paintings_range = range(1, (len(paintings) +1))\n",
    "audio_tour_number = list(total_paintings_range)\n",
    "print(audio_tour_number)"
   ]
  },
  {
   "cell_type": "code",
   "execution_count": 17,
   "id": "f2378b56",
   "metadata": {},
   "outputs": [
    {
     "name": "stdout",
     "output_type": "stream",
     "text": [
      "[(1, (('The Two Fridas', 1939), 1939)), (2, (('My Dress Hangs Here', 1933), 1933)), (3, (('Tree of Hope', 1946), 1946)), (4, (('Self Portrait With Monkeys', 1940), 1940)), (5, ('The Broken Column', 1944)), (6, ('The Wounded Deer', 1946)), (7, ('Me and My Doll', 1937)), (8, ('The Broken Column', 1944)), (9, ('The Wounded Deer', 1946)), (10, ('Me and My Doll', 1937)), (11, ('The Broken Column', 1944)), (12, ('The Wounded Deer', 1946)), (13, ('Me and My Doll', 1937))]\n"
     ]
    }
   ],
   "source": [
    "# Created Master List via zip() audio_tour_number and paintings list \n",
    "# and save it as a variable called master_list\n",
    "audio_paintings = zip(audio_tour_number, paintings)\n",
    "master_list = list(audio_paintings)\n",
    "print(master_list)"
   ]
  },
  {
   "cell_type": "code",
   "execution_count": 20,
   "id": "cbe52452",
   "metadata": {},
   "outputs": [
    {
     "name": "stdout",
     "output_type": "stream",
     "text": [
      "[(1, (('The Two Fridas', 1939), 1939)), (2, (('My Dress Hangs Here', 1933), 1933)), (3, (('Tree of Hope', 1946), 1946)), (4, (('Self Portrait With Monkeys', 1940), 1940)), (5, ('The Broken Column', 1944)), (6, ('The Wounded Deer', 1946)), (7, ('Me and My Doll', 1937)), (8, ('The Broken Column', 1944)), (9, ('The Wounded Deer', 1946)), (10, ('Me and My Doll', 1937)), (11, ('The Broken Column', 1944)), (12, ('The Wounded Deer', 1946)), (13, ('Me and My Doll', 1937))]\n"
     ]
    }
   ],
   "source": [
    "# Prints the master list in the terminal\n",
    "print(master_list)"
   ]
  },
  {
   "cell_type": "code",
   "execution_count": null,
   "id": "8f152dd7",
   "metadata": {},
   "outputs": [],
   "source": []
  }
 ],
 "metadata": {
  "kernelspec": {
   "display_name": "Python 3 (ipykernel)",
   "language": "python",
   "name": "python3"
  },
  "language_info": {
   "codemirror_mode": {
    "name": "ipython",
    "version": 3
   },
   "file_extension": ".py",
   "mimetype": "text/x-python",
   "name": "python",
   "nbconvert_exporter": "python",
   "pygments_lexer": "ipython3",
   "version": "3.9.13"
  }
 },
 "nbformat": 4,
 "nbformat_minor": 5
}
